{
  "nbformat": 4,
  "nbformat_minor": 0,
  "metadata": {
    "colab": {
      "provenance": []
    },
    "kernelspec": {
      "name": "python3",
      "display_name": "Python 3"
    },
    "language_info": {
      "name": "python"
    }
  },
  "cells": [
    {
      "cell_type": "markdown",
      "source": [
        "#Punto 1"
      ],
      "metadata": {
        "id": "tUA3QsIUIS5w"
      }
    },
    {
      "cell_type": "code",
      "execution_count": 3,
      "metadata": {
        "colab": {
          "base_uri": "https://localhost:8080/"
        },
        "id": "MmLEbGhSFEzQ",
        "outputId": "0ec2738a-dfcc-420c-bdd2-b0f4387334ad"
      },
      "outputs": [
        {
          "output_type": "stream",
          "name": "stdout",
          "text": [
            "ingrese la cantidad de numeros que tendrá su arreglo: 6\n",
            "Ingrese el elemento 1: 5\n",
            "Ingrese el elemento 2: 5\n",
            "Ingrese el elemento 3: 5\n",
            "Ingrese el elemento 4: 5\n",
            "Ingrese el elemento 5: 5\n",
            "Ingrese el elemento 6: 5\n",
            "el promedio de el arreglo de numeros reales es 5.0\n"
          ]
        }
      ],
      "source": [
        "def calcular_arreglo(arreglo):\n",
        "  if len(arreglo) == 0:\n",
        "    return \"el arreglo esta vacio\"\n",
        "  sumatoria_reales = sum(arreglo)\n",
        "  promedio_reales = sumatoria_reales / len(arreglo)\n",
        "  return promedio_reales\n",
        "reales = []\n",
        "n = int(input(\"ingrese la cantidad de numeros que tendrá su arreglo: \"))\n",
        "for i in range(n):\n",
        "  num = float(input(\"Ingrese el elemento \" + str(i + 1) + \": \"))\n",
        "  reales.append(num)\n",
        "resultado = calcular_arreglo(reales)\n",
        "print(\"el promedio de el arreglo de numeros reales es \" + str(resultado))"
      ]
    },
    {
      "cell_type": "markdown",
      "source": [
        "#Punto 2"
      ],
      "metadata": {
        "id": "FzAO2DwaIVvf"
      }
    },
    {
      "cell_type": "code",
      "source": [
        "def producto_punto(l1, l2):\n",
        "    pescalar = 0\n",
        "    for i in range(len(l1)):\n",
        "        pescalar += l1[i] * l2[i]\n",
        "    return pescalar\n",
        "\n",
        "if __name__==\"__main__\":\n",
        "    listA = []\n",
        "    listB = []\n",
        "    n = int(input(\"Ingrese la cantidad de componentes del vector: \"))\n",
        "    for i in range(n):\n",
        "        elemA = int(input(\"Ingrese el componente del vector: \"))\n",
        "        listA.append(elemA)\n",
        "        elemB = int(input(\"Ingrese el componente del vector: \"))\n",
        "        listB.append(elemB)\n",
        "    escalar = producto_punto(listA, listB)\n",
        "    print(\"El producto punto de los arreglos es: \",escalar)"
      ],
      "metadata": {
        "id": "93ajEZ8fGmK7"
      },
      "execution_count": null,
      "outputs": []
    },
    {
      "cell_type": "markdown",
      "source": [
        "#Punto 3"
      ],
      "metadata": {
        "id": "YOtVUR9HIYhy"
      }
    },
    {
      "cell_type": "code",
      "source": [
        "entrada = input(\"Ingrese un arreglo de números separados por espacios: \")\n",
        "arreglo = [float(num) for num in entrada.split()]\n",
        "ceros = 0\n",
        "\n",
        "\n",
        "for i in range(len(arreglo)):\n",
        "  if arreglo[i] == 0:\n",
        "    ceros += 1\n",
        "\n",
        "# Mostramos la cantidad de ceros en el arreglo\n",
        "print(\"La cantidad de ceros en el arreglo es: \",ceros)"
      ],
      "metadata": {
        "colab": {
          "base_uri": "https://localhost:8080/"
        },
        "id": "BPivab6kIbtC",
        "outputId": "ae7c69c6-8340-467e-9d55-03c9d4b856eb"
      },
      "execution_count": 13,
      "outputs": [
        {
          "output_type": "stream",
          "name": "stdout",
          "text": [
            "Ingrese un arreglo de números separados por espacios: 6 6 4 \n",
            "La cantidad de ceros en el arreglo es:  0\n"
          ]
        }
      ]
    }
  ]
}